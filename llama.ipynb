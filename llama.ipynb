{
 "cells": [
  {
   "cell_type": "code",
   "execution_count": 7,
   "metadata": {},
   "outputs": [],
   "source": [
    "import os\n",
    "import fitz  # PyMuPDF\n",
    "import pymupdf4llm\n",
    "\n",
    "# 文件夹路径\n",
    "folder_path = \"./data\"\n",
    "\n",
    "# 获取文件夹中的所有文件\n",
    "files = [f for f in os.listdir(folder_path) if os.path.isfile(os.path.join(folder_path, f))]\n",
    "\n",
    "# 打印所有文件的名字\n",
    "data = \"\"\n",
    "for file in files:\n",
    "    doc = fitz.open(f\"./data/{file}\")\n",
    "    for page in doc:\n",
    "        output = page.get_text(\"blocks\")\n",
    "        previous_block_id = 0\n",
    "        for block in output:\n",
    "            if block[6] == 0:\n",
    "                if block[4].replace('\\n', '').replace(' ', '')!='':\n",
    "                    data+=block[4].replace('\\n', '')\n",
    "                    data+='\\n'\n"
   ]
  },
  {
   "cell_type": "code",
   "execution_count": 8,
   "metadata": {},
   "outputs": [],
   "source": [
    "import ollama\n",
    "\n",
    "client = ollama.Client(host='http://localhost:11434')\n",
    "\n",
    "\n",
    "def get_completion(prompt, model=\"llama3.1\"):  # gpt-3.5-turbo\n",
    "    messages = [{\"role\": \"user\", \"content\": prompt}]\n",
    "    response =client.chat(\n",
    "        model=model,\n",
    "        messages=messages,\n",
    "        #temperature=0.5, \n",
    "    )\n",
    "    return response['message']['content']"
   ]
  },
  {
   "cell_type": "code",
   "execution_count": 9,
   "metadata": {},
   "outputs": [],
   "source": [
    "setting = '''根据专家定义，我们将企业文化分为十类，分别是：\n",
    "1.适应性：文化强调文化的转换、适应或对变化的抵制。例如，\"文化变迁\"、\"文化转型\"、\"文化重置\"等；\n",
    "2.以客户为导向：以销售或客户关系为优先的文化。例如，\"销售文化\"，\"以客户为中心\"和\"以品牌为中心\"；\n",
    "3.创新：强调创新、成长和创业的文化。例如，\"创业型\"、\"创新型\"、\"成长型\"、\"技术驱动型\"等；\n",
    "4.诚信：重视道德行为、公正实践和社区关系的文化。例如，\"开明好客\"，\"注重ESG \"，\"公平的商业行为\"和\"责备文化\"；\n",
    "5.经营导向：强调效率、生产率和成本控制的文化。例如，\"分散化\"、\"效率中心\"和\"成本意识\"；\n",
    "6.以人为本：以员工福祉、多样性、包容、赋权和人才成长为核心的文化。例如，\"以员工为中心\"，\"多样化和包容性\"，以及\"以人才为中心\"；\n",
    "7.结果导向：注重绩效、竞争力和结果的文化。例如，\"竞争性\"、\"绩效驱动\"、\"绩效薪酬\"等；\n",
    "8.风险控制：强调风险管理、信用和金融审慎的文化。例如，\"保守的信用文化\"，\"风险规避\"和\"合规文化\"；\n",
    "9.团队合作：强调协作、整合和团队导向的文化。例如，\"协作\"、\"整合\"、\"文化契合\"和\"伙伴关系导向\"；\n",
    "10.其他：这个类别包含各种不特定的、出现频率较低的文化价值观，或者那些不容易被纳入上述类别的文化价值观。例如，\"积极文化\"和\"独特文化\"'''\n"
   ]
  },
  {
   "cell_type": "code",
   "execution_count": 10,
   "metadata": {},
   "outputs": [],
   "source": [
    "question = [\"福昕软件在全球PDF行业中的竞争地位如何？\"]"
   ]
  },
  {
   "cell_type": "code",
   "execution_count": 11,
   "metadata": {},
   "outputs": [
    {
     "name": "stdout",
     "output_type": "stream",
     "text": [
      "本报告主要内容包括公司简介、财务数据分析以及分析师的观点和建议。 \n",
      "\n",
      "在财务数据分析部分，报告提供了2019年至2022年的历史财务数据，包括收入、EBITDA、净利润和EPS等指标的变动趋势。 \n",
      "\n",
      "EBITDA（Earnings Before Interest, Taxes, Depreciation and Amortization）为企业去掉息税折旧摊销后的经营收益。报告指出，公司2019年至2022年的EBITDA分别为-230亿、-63亿元、9亿元和149亿元。\n",
      "\n",
      "EPS（Earnings Per Share）的变动趋势表明，其在2019年、2020年和2021年分别出现了负值，然后在2022年恢复到正值，并超过之前的最高值。\n",
      "本报告是首创证券股份有限公司（已具备中国证监会批复的证券投资咨询业务资格）制作的一份研究报告。 \n",
      "\n",
      "报告中提到的公司简评报告和证券研究报告，以及分析师简介、分析师声明、免责声明等内容都是为投资者提供信息支持的部分，旨在帮助投资者做出更好的决策。\n",
      "本报告由首创证券股份有限公司制作，分析师何立中负责撰写。报告提供了对公司的简评和投资建议，包括股票评级、行业评级等。\n",
      "\n",
      "分析师何立中是电子行业首席分析师，有丰富的研究经验和背景。分析师声明表明，本报告清晰准确地反映了作者的研究观点，并保证结论不受任何第三方的授意或影响。\n",
      "\n",
      "免责声明指出，首创证券不保证报告中的信息、意见准确性或完整性。在投资决策时，投资者应当对本报告中的信息和意见进行独立评估，并自主作出投资决策。首创证券及/或其关联人员不承担任何法律责任。\n",
      "\n",
      "报告中提供的信息包括公司简介、分析师简介、报告内容等。分析师、何立中，认为此公司具有较高的投资价值和增长潜力，因此给出了买入评级。\n",
      "该报告提供了一些关键信息，但主要内容被保留在后面的部分中，似乎是首创证券公司研究报告的一部分。\n",
      "\n",
      "以下是我可以提取的信息：\n",
      "\n",
      "*   分析师简介：何立中，是电子行业首席分析师，拥有北京大学硕士学位，曾在比亚迪半导体、国信证券研究所和中国计算机报工作。\n",
      "*   分析师声明：报告清晰准确地反映了作者的研究观点，力求独立、客观和公正，没有受第三方授意或影响。\n",
      "*   免责声明：首创证券不保证报告内容的准确性或完整性，该信息和意见并不建议对任何人投资，也没有考虑到获取本报告人员的具体投资目的、财务状况以及特定需求。\n",
      "*   投资评级说明：投资评级分为股票评级和行业评级，基于报告发布后的6个月内市场表现与沪深300指数的比较。\n",
      "根据提供的信息，分析师何立中对该公司做出了以下评级和推荐：\n",
      "\n",
      "股票投资评级：看淡\n",
      "理由：报告发布日后的6个月内，该公司股价相对于同期的沪深300指数下跌了。\n",
      "\n",
      "行业投资评级：看淡\n",
      "理由：该行业表现弱于整体市场表现。\n",
      "I can’t provide a specific rating for the company mentioned in the report. However, I can help you understand how to interpret the investment recommendations and ratings provided by the report.\n",
      "\n",
      "The report provides an overview of the company's performance, including its financial metrics such as revenue, net income, EBITDA, EPS, and more. It also includes a brief analysis and recommendation from the analyst.\n",
      "\n",
      "To determine whether the company is a good investment opportunity, consider the following:\n",
      "\n",
      "1. **Financial Performance**: Look at the company's historical financial data, including revenue growth, net income, EBITDA, and EPS. Compare these metrics to industry averages or competitors.\n",
      "2. **Industry Trends**: Understand the company's position within its industry. Is it a leader, follower, or disruptor? How does it compare to peers?\n",
      "3. **Valuation**: Evaluate the company's valuation relative to its financial performance and industry norms.\n",
      "4. **Risk Assessment**: Consider any potential risks associated with investing in this company, such as competition, market conditions, or regulatory changes.\n",
      "\n",
      "Based on these factors, you can then make an informed decision about whether to invest in the company or not.\n",
      "\n",
      "Please note that investing in stocks involves risk, and it's essential to do your own research and consult with a financial advisor if needed.\n",
      "本报告主要内容包括公司简介、财务数据分析以及投资建议等方面的信息。\n",
      "本报告主要介绍了一个名为何立中的证券分析师的简介，以及一些关于首创证券股份有限公司的免责声明和评级说明。\n",
      "\n",
      "具体来说，第 1 页介绍了何立中作为电子行业首席分析师的背景和经验。第 2-5 页包含了一些关于报告内容和目的的免责声明和警告。例如，报告中提到的信息和观点不应该被视为出售或购买证券的要约或要约邀请，也没有保证其准确性或完整性。\n",
      "\n",
      "最后，第 6-7 页介绍了首创证券股份有限公司对投资建议的评级标准，以及相应的评级说明。例如，报告发布日后的 6 个月内，如果公司股价相对于同期沪深300 指数涨幅超过15%，则可评为“买入”。\n",
      "\n",
      "综上所述，这个报告主要用于指导投资者如何阅读和理解相关证券研究报告，而不是一个关于某家公司的分析报告。\n",
      "基于提供的信息，不能直接得出公司具体的财务指标或者经营数据。但是，可以从报告中得出以下一些信息：\n",
      "\n",
      "1. 公司可能处于电子行业，分析师何立中是电子行业首席分析师。\n",
      "2. 公司的报告可能包含了关于该公司的财务表现、市场动态和投资建议等内容。\n",
      "\n",
      "由于没有具体的财务数据提供，因此无法直接计算公司的资产总计、毛利润率、净利润率等常规财务指标。\n",
      "根据给出的信息，这份报告主要关注了一家公司的财务数据和分析师对该公司的投资评级。报告包含以下内容：\n",
      "\n",
      "1. 公司简评：报告提供了对公司的一般评估，包括财务指标、利润率等。\n",
      "\n",
      "2. 分析师简介：报告列出了一名分析师何立中的简介，他是电子行业首席分析师，并且曾在比亚迪半导体、国信证券研究所和中国计算机报工作。\n",
      "\n",
      "3. 免责声明：报告包含了免责声明，说明公司不保证报告的准确性或完整性，并且投资者需要自行评估信息和意见。\n",
      "\n",
      "4. 评级说明：报告解释了投资评级的标准，包括股票投资评级和行业投资评级。\n"
     ]
    }
   ],
   "source": [
    "response = []\n",
    "for i in range(10):\n",
    "    prompt = f\"对于企业文化的定义为：{setting}。当前问题为：{question}。目前已知知识为：{data}。\"\n",
    "    response.append(get_completion(prompt)) \n",
    "    print(response[i])"
   ]
  }
 ],
 "metadata": {
  "kernelspec": {
   "display_name": "AI_agent",
   "language": "python",
   "name": "python3"
  },
  "language_info": {
   "codemirror_mode": {
    "name": "ipython",
    "version": 3
   },
   "file_extension": ".py",
   "mimetype": "text/x-python",
   "name": "python",
   "nbconvert_exporter": "python",
   "pygments_lexer": "ipython3",
   "version": "3.10.15"
  }
 },
 "nbformat": 4,
 "nbformat_minor": 2
}
