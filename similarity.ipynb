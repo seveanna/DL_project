{
 "cells": [
  {
   "cell_type": "code",
   "execution_count": 7,
   "metadata": {},
   "outputs": [
    {
     "name": "stdout",
     "output_type": "stream",
     "text": [
      "模型加载完成\n"
     ]
    },
    {
     "name": "stderr",
     "output_type": "stream",
     "text": [
      "You're using a BertTokenizerFast tokenizer. Please note that with a fast tokenizer, using the `__call__` method is faster than using a method to encode the text followed by a call to the `pad` method to get a padded encoding.\n"
     ]
    },
    {
     "name": "stdout",
     "output_type": "stream",
     "text": [
      "两个语句的相似度：0.50732421875\n"
     ]
    }
   ],
   "source": [
    "import torch\n",
    "from FlagEmbedding import FlagModel\n",
    "\n",
    "# 加载FlagModel\n",
    "model = FlagModel('BAAI/bge-large-zh-v1.5',\n",
    "                  query_instruction_for_retrieval=\"为这个句子生成表示以用于检索相关文章：\",\n",
    "                  use_fp16=True)\n",
    "\n",
    "print(\"模型加载完成\")\n",
    "\n",
    "# 你要比较的两个语句\n",
    "sentence1 = \"作为一家具备全球竞争力的产品化企业，福昕不仅在国内市场占据重要份额，在国际市场上也展现了较强的适应性与创新能力。其企业文化中既包含了以客户为中心的经营理念、对技术创新的重视以及团队协作的精神，同时也体现了结果导向的工作态度和风险控制意识。虽然在规模上难以与Adobe直接抗衡，但福昕凭借自身的技术优势及市场策略，在竞争格局中占据了有利地位，并有望通过进一步发展扩大市场份额。\"\n",
    "sentence2 = \"本报告主要内容包括公司简介、财务数据分析以及分析师的观点和建议。在财务数据分析部分，报告提供了2019年至2022年的历史财务数据，包括收入、EBITDA、净利润和EPS等指标的变动趋势。EBITDA（Earnings Before Interest, Taxes, Depreciation and Amortization）为企业去掉息税折旧摊销后的经营收益。报告指出，公司2019年至2022年的EBITDA分别为-230亿、-63亿元、9亿元和149亿元。EPS（Earnings Per Share）的变动趋势表明，其在2019年、2020年和2021年分别出现了负值，然后在2022年恢复到正值，并超过之前的最高值。本报告是首创证券股份有限公司（已具备中国证监会批复的证券投资咨询业务资格）制作的一份研究报告。 报告中提到的公司简评报告和证券研究报告，以及分析师简介、分析师声明、免责声明等内容都是为投资者提供信息支持的部分，旨在帮助投资者做出更好的决策。本报告由首创证券股份有限公司制作，分析师何立中负责撰写。报告提供了对公司的简评和投资建议，包括股票评级、行业评级等。分析师何立中是电子行业首席分析师，有丰富的研究经验和背景。分析师声明表明，本报告清晰准确地反映了作者的研究观点，并保证结论不受任何第三方的授意或影响。免责声明指出，首创证券不保证报告中的信息、意见准确性或完整性。在投资决策时，投资者应当对本报告中的信息和意见进行独立评估，并自主作出投资决策。首创证券及/或其关联人员不承担任何法律责任。报告中提供的信息包括公司简介、分析师简介、报告内容等。分析师、何立中，认为此公司具有较高的投资价值和增长潜力，因此给出了买入评级。该报告提供了一些关键信息，但主要内容被保留在后面的部分中，似乎是首创证券公司研究报告的一部分。以下是我可以提取的信息：*   分析师简介：何立中，是电子行业首席分析师，拥有北京大学硕士学位，曾在比亚迪半导体、国信证券研究所和中国计算机报工作。*   分析师声明：报告清晰准确地反映了作者的研究观点，力求独立、客观和公正，没有受第三方授意或影响。*   免责声明：首创证券不保证报告内容的准确性或完整性，该信息和意见并不建议对任何人投资，也没有考虑到获取本报告人员的具体投资目的、财务状况以及特定需求。*   投资评级说明：投资评级分为股票评级和行业评级，基于报告发布后的6个月内市场表现与沪深300指数的比较。根据提供的信息，分析师何立中对该公司做出了以下评级和推荐：股票投资评级：看淡理由：报告发布日后的6个月内，该公司股价相对于同期的沪深300指数下跌了。行业投资评级：看淡理由：该行业表现弱于整体市场表现。I can’t provide a specific rating for the company mentioned in the report. However, I can help you understand how to interpret the investment recommendations and ratings provided by the report.The report provides an overview of the company's performance, including its financial metrics such as revenue, net income, EBITDA, EPS, and more. It also includes a brief analysis and recommendation from the analyst.To determine whether the company is a good investment opportunity, consider the following:1. **Financial Performance**: Look at the company's historical financial data, including revenue growth, net income, EBITDA, and EPS. Compare these metrics to industry averages or competitors.2. **Industry Trends**: Understand the company's position within its industry. Is it a leader, follower, or disruptor? How does it compare to peer\"\n",
    "\n",
    "# 生成两个语句的向量表示\n",
    "embedding1 = model.encode([sentence1])[0]\n",
    "embedding2 = model.encode([sentence2])[0]\n",
    "\n",
    "# 将numpy.ndarray转换为torch.Tensor\n",
    "embedding1 = torch.tensor(embedding1)\n",
    "embedding2 = torch.tensor(embedding2)\n",
    "\n",
    "# 计算两个向量之间的余弦相似度\n",
    "similarity = torch.nn.functional.cosine_similarity(embedding1.unsqueeze(0), embedding2.unsqueeze(0)).item()\n",
    "\n",
    "print(f\"两个语句的相似度：{similarity}\")\n"
   ]
  }
 ],
 "metadata": {
  "kernelspec": {
   "display_name": "AI_agent",
   "language": "python",
   "name": "python3"
  },
  "language_info": {
   "codemirror_mode": {
    "name": "ipython",
    "version": 3
   },
   "file_extension": ".py",
   "mimetype": "text/x-python",
   "name": "python",
   "nbconvert_exporter": "python",
   "pygments_lexer": "ipython3",
   "version": "3.10.15"
  }
 },
 "nbformat": 4,
 "nbformat_minor": 2
}
